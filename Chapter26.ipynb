{
 "metadata": {
  "name": "",
  "signature": "sha256:fcd04102e57ae76b6a564c44176693d525f1d00e7076e4565943bcad432b25dc"
 },
 "nbformat": 3,
 "nbformat_minor": 0,
 "worksheets": [
  {
   "cells": [
    {
     "cell_type": "heading",
     "level": 1,
     "metadata": {},
     "source": [
      "Chapter 26: Miscellaneous Library Functions"
     ]
    },
    {
     "cell_type": "heading",
     "level": 2,
     "metadata": {},
     "source": [
      "Example trand.c, Page 687"
     ]
    },
    {
     "cell_type": "code",
     "collapsed": false,
     "input": [
      "import random\n",
      "import sys\n",
      "print \"This program displays the first five values of rand\"\n",
      "while(1):\n",
      "    for i in range(5):\n",
      "        print \"%d\" % (random.randint(0, 9999999999)),\n",
      "    print \"\"\n",
      "    seed=int(raw_input(\"Enter new seed value(0 to terminate): \"))\n",
      "    if(seed==0):\n",
      "        break;"
     ],
     "language": "python",
     "metadata": {},
     "outputs": [
      {
       "output_type": "stream",
       "stream": "stdout",
       "text": [
        "This program displays the first five values of rand\n",
        "5761431435 9955887404 277948394 6605189227 2803280817 \n"
       ]
      },
      {
       "name": "stdout",
       "output_type": "stream",
       "stream": "stdout",
       "text": [
        "Enter new seed value(0 to terminate): 100\n"
       ]
      },
      {
       "output_type": "stream",
       "stream": "stdout",
       "text": [
        "1100098189 5276410883 9528246424 9889916914 9838545564 \n"
       ]
      },
      {
       "name": "stdout",
       "output_type": "stream",
       "stream": "stdout",
       "text": [
        "Enter new seed value(0 to terminate): 1\n"
       ]
      },
      {
       "output_type": "stream",
       "stream": "stdout",
       "text": [
        "3822278888 5608424328 9674817256 1259089032 3611877211 \n"
       ]
      },
      {
       "name": "stdout",
       "output_type": "stream",
       "stream": "stdout",
       "text": [
        "Enter new seed value(0 to terminate): 0\n"
       ]
      }
     ],
     "prompt_number": 2
    },
    {
     "cell_type": "heading",
     "level": 2,
     "metadata": {},
     "source": [
      "Example airmiles.c, Page 690"
     ]
    },
    {
     "cell_type": "code",
     "collapsed": false,
     "input": [
      "mileage={\"Berlin\": 3965, \"Buenos Aires\": 5297, \"Cairo\": 5602, \"Calcutta\": 7918,\"Cape Town\": 7764, \"Caracas\": 2132,\"Chicago\": 713, \"Hong Kong\": 8054,\"Honolulu\": 4964, \"Istanbul\": 4975, \"Lisbon\": 3354,\"London\": 3458,\"Los Angeles\": 2451, \"Manila\": 3498,\"Mexico City\": 2094,  \"Montreal\": 320,\"Moscow\": 4665, \"Paris\": 3624,\"Rio de Janeiro\": 4817, \"Rome\": 4281,\"San Francisco\": 2571, \"Shanghai\": 7371,\"Stockholm\": 3924, \"Sydney\": 9933,\"Tokyo\": 6740, \"Warsaw\": 4344,\"Washington\": 205}\n",
      "city_name=raw_input(\"Enter city name: \")\n",
      "try:\n",
      "    print \"%s is %d miles from New York City.\"%(city_name,mileage[city_name])\n",
      "except:\n",
      "    print \"%s wasn't found.\"%city_name\n",
      "    "
     ],
     "language": "python",
     "metadata": {},
     "outputs": [
      {
       "name": "stdout",
       "output_type": "stream",
       "stream": "stdout",
       "text": [
        "Enter city name: Shanghai\n"
       ]
      },
      {
       "output_type": "stream",
       "stream": "stdout",
       "text": [
        "Shanghai is 7371 miles from New York City.\n"
       ]
      }
     ],
     "prompt_number": 3
    },
    {
     "cell_type": "heading",
     "level": 2,
     "metadata": {},
     "source": [
      "Example datetime.c, Page 700"
     ]
    },
    {
     "cell_type": "code",
     "collapsed": false,
     "input": [
      "import datetime\n",
      "import time\n",
      "\n",
      "current=datetime.date.today()\n",
      "print current.ctime()\n",
      "print time.strftime(\"%m-%d-%Y %I:%M%p\")\n",
      "hour=time.localtime().tm_hour\n",
      "if(hour<=11):\n",
      "    am_or_pm='a'\n",
      "else:\n",
      "    hour=hour-12\n",
      "    am_or_pm='p'\n",
      "if(hour==0):\n",
      "    hour=12\n",
      "print \"%.2d-%.2d-%d %2d:%.2d%c\"%((time.localtime().tm_mon),time.localtime().tm_mday,( time.localtime().tm_year+1900),hour,time.localtime().tm_min, am_or_pm )\n"
     ],
     "language": "python",
     "metadata": {},
     "outputs": [
      {
       "output_type": "stream",
       "stream": "stdout",
       "text": [
        "Wed Oct  1 00:00:00 2014\n",
        "10-01-2014 05:33PM\n",
        "10-01-3914  5:33p\n"
       ]
      }
     ],
     "prompt_number": 30
    },
    {
     "cell_type": "code",
     "collapsed": false,
     "input": [],
     "language": "python",
     "metadata": {},
     "outputs": []
    }
   ],
   "metadata": {}
  }
 ]
}