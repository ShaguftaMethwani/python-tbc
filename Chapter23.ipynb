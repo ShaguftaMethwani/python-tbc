{
 "metadata": {
  "name": "",
  "signature": "sha256:1cebf660e6828c4958c6bdac3e21ec9dd2ec1d6ca880fb098c034d9bcbd546fe"
 },
 "nbformat": 3,
 "nbformat_minor": 0,
 "worksheets": [
  {
   "cells": [
    {
     "cell_type": "heading",
     "level": 1,
     "metadata": {},
     "source": [
      "Chapter 23: Library Support for Numbers and Character Data"
     ]
    },
    {
     "cell_type": "heading",
     "level": 2,
     "metadata": {},
     "source": [
      "Example tcasemap.c, Page 615"
     ]
    },
    {
     "cell_type": "code",
     "collapsed": false,
     "input": [
      "p=\"aA0!\"\n",
      "pl=list(p)\n",
      "for i in pl:\n",
      "    print \"tolower('%c') is '%c'; \"% (i,i.lower()),\n",
      "    print \"toupper('%c') is '%c'; \"% (i,i.upper())"
     ],
     "language": "python",
     "metadata": {},
     "outputs": [
      {
       "output_type": "stream",
       "stream": "stdout",
       "text": [
        "tolower('a') is 'a';  toupper('a') is 'A'; \n",
        "tolower('A') is 'a';  toupper('A') is 'A'; \n",
        "tolower('0') is '0';  toupper('0') is '0'; \n",
        "tolower('!') is '!';  toupper('!') is '!'; \n"
       ]
      }
     ],
     "prompt_number": 1
    },
    {
     "cell_type": "code",
     "collapsed": false,
     "input": [],
     "language": "python",
     "metadata": {},
     "outputs": []
    }
   ],
   "metadata": {}
  }
 ]
}