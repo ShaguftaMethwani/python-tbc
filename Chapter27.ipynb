{
 "metadata": {
  "name": "",
  "signature": "sha256:d596457391df308a57bb59fde4173c6f3b60829cc798d3f2ffccce6ed1d54b31"
 },
 "nbformat": 3,
 "nbformat_minor": 0,
 "worksheets": [
  {
   "cells": [
    {
     "cell_type": "heading",
     "level": 1,
     "metadata": {},
     "source": [
      "Chapter 27: Additional C99 Support for Mathematics"
     ]
    },
    {
     "cell_type": "heading",
     "level": 2,
     "metadata": {},
     "source": [
      "Example quadratic.c, Page 723"
     ]
    },
    {
     "cell_type": "code",
     "collapsed": false,
     "input": [
      "import cmath\n",
      "\n",
      "a =5\n",
      "b = 2\n",
      "c = 1\n",
      "\n",
      "# calculate the discriminant\n",
      "d = (b**2) - (4*a*c)\n",
      "\n",
      "# find two solutions\n",
      "sol1 = (-b-cmath.sqrt(d))/(2*a)\n",
      "sol2 = (-b+cmath.sqrt(d))/(2*a)\n",
      "\n",
      "print('root1 = {0} \\nroot2 = {1}'.format(sol1,sol2))"
     ],
     "language": "python",
     "metadata": {},
     "outputs": [
      {
       "output_type": "stream",
       "stream": "stdout",
       "text": [
        "root1 = (-0.2-0.4j) \n",
        "root2 = (-0.2+0.4j)\n"
       ]
      }
     ],
     "prompt_number": 4
    },
    {
     "cell_type": "code",
     "collapsed": false,
     "input": [],
     "language": "python",
     "metadata": {},
     "outputs": []
    }
   ],
   "metadata": {}
  }
 ]
}