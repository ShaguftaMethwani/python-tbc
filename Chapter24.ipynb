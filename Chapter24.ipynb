{
 "metadata": {
  "name": "",
  "signature": "sha256:b6a9476f92fe6c8ad34f7642000b8c7f67b4d683cf31cae8e8c80a1de8992f3b"
 },
 "nbformat": 3,
 "nbformat_minor": 0,
 "worksheets": [
  {
   "cells": [
    {
     "cell_type": "heading",
     "level": 1,
     "metadata": {},
     "source": [
      "Chapter 24: Error Handling"
     ]
    },
    {
     "cell_type": "heading",
     "level": 2,
     "metadata": {},
     "source": [
      "Example tsignal.c, Page 634"
     ]
    },
    {
     "cell_type": "code",
     "collapsed": false,
     "input": [
      "import signal\n",
      "import sys\n",
      "def handler(sig,frame):\n",
      "    print \"Handler called for signal\",sig\n",
      "print \"Installing handler for signal\", signal.SIGINT\n",
      "orig_handler=signal.signal(signal.SIGINT,handler)\n",
      "print \"Changing handler to SIG_IGN\"\n",
      "signal.signal(signal.SIGINT,signal.SIG_IGN)\n",
      "print \"Restoring original handler\"\n",
      "signal.signal(signal.SIGINT,orig_handler)\n",
      "print \"Program terminates normally\""
     ],
     "language": "python",
     "metadata": {},
     "outputs": [
      {
       "output_type": "stream",
       "stream": "stdout",
       "text": [
        "Installing handler for signal 2\n",
        "Changing handler to SIG_IGN\n",
        "Restoring original handler\n",
        "Program terminates normally\n"
       ]
      }
     ],
     "prompt_number": 2
    },
    {
     "cell_type": "code",
     "collapsed": false,
     "input": [],
     "language": "python",
     "metadata": {},
     "outputs": []
    }
   ],
   "metadata": {}
  }
 ]
}