{
 "metadata": {
  "name": "",
  "signature": "sha256:12f21be228310c03df13a949fdd3b3bdede290076fc685a6d472febf6d804f4b"
 },
 "nbformat": 3,
 "nbformat_minor": 0,
 "worksheets": [
  {
   "cells": [
    {
     "cell_type": "heading",
     "level": 1,
     "metadata": {},
     "source": [
      "Chapter 20: Low-Level Programming"
     ]
    },
    {
     "cell_type": "heading",
     "level": 2,
     "metadata": {},
     "source": [
      "Example xor.c, Page 515"
     ]
    },
    {
     "cell_type": "code",
     "collapsed": false,
     "input": [
      "KEY='&'\n",
      "orig=raw_input()\n",
      "orig_char=list(orig)\n",
      "new_char=[]\n",
      "\n",
      "def sxor(s1,s2):    \n",
      "    return ''.join(chr(ord(a) ^ ord(b)) for a,b in zip(s1,s2))\n",
      "for i in orig_char:\n",
      "    N=sxor(i,KEY)\n",
      "    new_char.append(N)\n",
      "print ''.join(new_char)"
     ],
     "language": "python",
     "metadata": {},
     "outputs": [
      {
       "name": "stdout",
       "output_type": "stream",
       "stream": "stdout",
       "text": [
        "Trust not him with your secrets, who, when left alone in your room, turns over your papers. Johann Kaspar Lavater \n"
       ]
      },
      {
       "output_type": "stream",
       "stream": "stdout",
       "text": [
        "rTSUR\u0006HIR\u0006NOK\u0006QORN\u0006_IST\u0006UCETCRU\n",
        "\u0006QNI\n",
        "\u0006QNCH\u0006JC@R\u0006GJIHC\u0006OH\u0006_IST\u0006TIIK\n",
        "\u0006RSTHU\u0006IPCT\u0006_IST\u0006VGVCTU\b\u0006lINGHH\u0006mGUVGT\u0006jGPGRCT\u0006\n"
       ]
      }
     ],
     "prompt_number": 17
    },
    {
     "cell_type": "code",
     "collapsed": false,
     "input": [
      "try:\n",
      "    fname=raw_input()\n",
      "    fp=open('noexist',r)\n",
      "except:\n",
      "    print \"Can't be opened\"\n",
      "else:\n",
      "    print \"Can be opened\"\n"
     ],
     "language": "python",
     "metadata": {},
     "outputs": [
      {
       "name": "stdout",
       "output_type": "stream",
       "stream": "stdout",
       "text": [
        "file\n"
       ]
      },
      {
       "output_type": "stream",
       "stream": "stdout",
       "text": [
        "Can't be opened\n"
       ]
      }
     ],
     "prompt_number": 19
    },
    {
     "cell_type": "heading",
     "level": 2,
     "metadata": {},
     "source": [
      "Example fcopy.c, Page 568"
     ]
    },
    {
     "cell_type": "code",
     "collapsed": false,
     "input": [
      "try:\n",
      "    s=raw_input(\"Source\")\n",
      "    d=raw_input(\"Destination\")\n",
      "    source_fp=open(s,rb)\n",
      "    dest_fp = open(d,wb)\n",
      "\n",
      "    for line in source_fp.readlines():\n",
      "        dest_fp.write(line)   \n",
      "\n",
      "    dest_fp.close()\n",
      "    source_fp.close()\n",
      "except:\n",
      "    print \"Can't be opened\"\n"
     ],
     "language": "python",
     "metadata": {},
     "outputs": [
      {
       "name": "stdout",
       "output_type": "stream",
       "stream": "stdout",
       "text": [
        "Sourcef1\n"
       ]
      },
      {
       "name": "stdout",
       "output_type": "stream",
       "stream": "stdout",
       "text": [
        "Destinationf2\n"
       ]
      },
      {
       "output_type": "stream",
       "stream": "stdout",
       "text": [
        "Can't be opened\n"
       ]
      }
     ],
     "prompt_number": 20
    }
   ],
   "metadata": {}
  }
 ]
}